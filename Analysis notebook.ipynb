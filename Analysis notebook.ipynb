{
 "cells": [
  {
   "cell_type": "code",
   "execution_count": 1,
   "id": "68568442-300b-4ded-8e98-2f5149265541",
   "metadata": {},
   "outputs": [],
   "source": [
    "# Import Libraries\n",
    "import pandas as pd\n",
    "import numpy as np\n",
    "import seaborn as sns\n",
    "import matplotlib.pyplot as plt"
   ]
  },
  {
   "cell_type": "code",
   "execution_count": 2,
   "id": "e4bfba62-ca7b-428f-a75f-1fe667f72bd5",
   "metadata": {},
   "outputs": [
    {
     "data": {
      "text/html": [
       "<div>\n",
       "<style scoped>\n",
       "    .dataframe tbody tr th:only-of-type {\n",
       "        vertical-align: middle;\n",
       "    }\n",
       "\n",
       "    .dataframe tbody tr th {\n",
       "        vertical-align: top;\n",
       "    }\n",
       "\n",
       "    .dataframe thead th {\n",
       "        text-align: right;\n",
       "    }\n",
       "</style>\n",
       "<table border=\"1\" class=\"dataframe\">\n",
       "  <thead>\n",
       "    <tr style=\"text-align: right;\">\n",
       "      <th></th>\n",
       "      <th>Region</th>\n",
       "      <th>Country</th>\n",
       "      <th>Item Type</th>\n",
       "      <th>Sales Channel</th>\n",
       "      <th>Order Priority</th>\n",
       "      <th>Order Date</th>\n",
       "      <th>Order ID</th>\n",
       "      <th>Ship Date</th>\n",
       "      <th>Units Sold</th>\n",
       "      <th>Unit Price</th>\n",
       "      <th>Unit Cost</th>\n",
       "      <th>Total Revenue</th>\n",
       "      <th>Total Cost</th>\n",
       "      <th>Total Profit</th>\n",
       "    </tr>\n",
       "  </thead>\n",
       "  <tbody>\n",
       "    <tr>\n",
       "      <th>0</th>\n",
       "      <td>Middle East and North Africa</td>\n",
       "      <td>Libya</td>\n",
       "      <td>Cosmetics</td>\n",
       "      <td>Offline</td>\n",
       "      <td>M</td>\n",
       "      <td>10/18/2014</td>\n",
       "      <td>686800706</td>\n",
       "      <td>10/31/2014</td>\n",
       "      <td>8446</td>\n",
       "      <td>437.20</td>\n",
       "      <td>263.33</td>\n",
       "      <td>3692591.20</td>\n",
       "      <td>2224085.18</td>\n",
       "      <td>1468506.02</td>\n",
       "    </tr>\n",
       "    <tr>\n",
       "      <th>1</th>\n",
       "      <td>North America</td>\n",
       "      <td>Canada</td>\n",
       "      <td>Vegetables</td>\n",
       "      <td>Online</td>\n",
       "      <td>M</td>\n",
       "      <td>11/7/2011</td>\n",
       "      <td>185941302</td>\n",
       "      <td>12/8/2011</td>\n",
       "      <td>3018</td>\n",
       "      <td>154.06</td>\n",
       "      <td>90.93</td>\n",
       "      <td>464953.08</td>\n",
       "      <td>274426.74</td>\n",
       "      <td>190526.34</td>\n",
       "    </tr>\n",
       "    <tr>\n",
       "      <th>2</th>\n",
       "      <td>Middle East and North Africa</td>\n",
       "      <td>Libya</td>\n",
       "      <td>Baby Food</td>\n",
       "      <td>Offline</td>\n",
       "      <td>C</td>\n",
       "      <td>10/31/2016</td>\n",
       "      <td>246222341</td>\n",
       "      <td>12/9/2016</td>\n",
       "      <td>1517</td>\n",
       "      <td>255.28</td>\n",
       "      <td>159.42</td>\n",
       "      <td>387259.76</td>\n",
       "      <td>241840.14</td>\n",
       "      <td>145419.62</td>\n",
       "    </tr>\n",
       "    <tr>\n",
       "      <th>3</th>\n",
       "      <td>Asia</td>\n",
       "      <td>Japan</td>\n",
       "      <td>Cereal</td>\n",
       "      <td>Offline</td>\n",
       "      <td>C</td>\n",
       "      <td>4/10/2010</td>\n",
       "      <td>161442649</td>\n",
       "      <td>5/12/2010</td>\n",
       "      <td>3322</td>\n",
       "      <td>205.70</td>\n",
       "      <td>117.11</td>\n",
       "      <td>683335.40</td>\n",
       "      <td>389039.42</td>\n",
       "      <td>294295.98</td>\n",
       "    </tr>\n",
       "    <tr>\n",
       "      <th>4</th>\n",
       "      <td>Sub-Saharan Africa</td>\n",
       "      <td>Chad</td>\n",
       "      <td>Fruits</td>\n",
       "      <td>Offline</td>\n",
       "      <td>H</td>\n",
       "      <td>8/16/2011</td>\n",
       "      <td>645713555</td>\n",
       "      <td>8/31/2011</td>\n",
       "      <td>9845</td>\n",
       "      <td>9.33</td>\n",
       "      <td>6.92</td>\n",
       "      <td>91853.85</td>\n",
       "      <td>68127.40</td>\n",
       "      <td>23726.45</td>\n",
       "    </tr>\n",
       "  </tbody>\n",
       "</table>\n",
       "</div>"
      ],
      "text/plain": [
       "                         Region Country   Item Type Sales Channel  \\\n",
       "0  Middle East and North Africa   Libya   Cosmetics       Offline   \n",
       "1                 North America  Canada  Vegetables        Online   \n",
       "2  Middle East and North Africa   Libya   Baby Food       Offline   \n",
       "3                          Asia   Japan      Cereal       Offline   \n",
       "4            Sub-Saharan Africa    Chad      Fruits       Offline   \n",
       "\n",
       "  Order Priority  Order Date   Order ID   Ship Date  Units Sold  Unit Price  \\\n",
       "0              M  10/18/2014  686800706  10/31/2014        8446      437.20   \n",
       "1              M   11/7/2011  185941302   12/8/2011        3018      154.06   \n",
       "2              C  10/31/2016  246222341   12/9/2016        1517      255.28   \n",
       "3              C   4/10/2010  161442649   5/12/2010        3322      205.70   \n",
       "4              H   8/16/2011  645713555   8/31/2011        9845        9.33   \n",
       "\n",
       "   Unit Cost  Total Revenue  Total Cost  Total Profit  \n",
       "0     263.33     3692591.20  2224085.18    1468506.02  \n",
       "1      90.93      464953.08   274426.74     190526.34  \n",
       "2     159.42      387259.76   241840.14     145419.62  \n",
       "3     117.11      683335.40   389039.42     294295.98  \n",
       "4       6.92       91853.85    68127.40      23726.45  "
      ]
     },
     "execution_count": 2,
     "metadata": {},
     "output_type": "execute_result"
    }
   ],
   "source": [
    "url='https://raw.githubusercontent.com/HariVM/Analytics/master/1000%20Sales%20Records.csv'\n",
    "df=pd.read_csv(url)\n",
    "df.to_csv('C:/Users/Ismail/Desktop/Projects for GitHup/sales-business-analytics/sales_records.csv')\n",
    "df.head()"
   ]
  },
  {
   "cell_type": "code",
   "execution_count": 3,
   "id": "5c23b411-984c-4810-8026-875b43c27a58",
   "metadata": {},
   "outputs": [
    {
     "name": "stdout",
     "output_type": "stream",
     "text": [
      "<class 'pandas.core.frame.DataFrame'>\n",
      "RangeIndex: 1000 entries, 0 to 999\n",
      "Data columns (total 14 columns):\n",
      " #   Column          Non-Null Count  Dtype  \n",
      "---  ------          --------------  -----  \n",
      " 0   Region          1000 non-null   object \n",
      " 1   Country         1000 non-null   object \n",
      " 2   Item Type       1000 non-null   object \n",
      " 3   Sales Channel   1000 non-null   object \n",
      " 4   Order Priority  1000 non-null   object \n",
      " 5   Order Date      1000 non-null   object \n",
      " 6   Order ID        1000 non-null   int64  \n",
      " 7   Ship Date       1000 non-null   object \n",
      " 8   Units Sold      1000 non-null   int64  \n",
      " 9   Unit Price      1000 non-null   float64\n",
      " 10  Unit Cost       1000 non-null   float64\n",
      " 11  Total Revenue   1000 non-null   float64\n",
      " 12  Total Cost      1000 non-null   float64\n",
      " 13  Total Profit    1000 non-null   float64\n",
      "dtypes: float64(5), int64(2), object(7)\n",
      "memory usage: 109.5+ KB\n",
      "None\n",
      "Region            0\n",
      "Country           0\n",
      "Item Type         0\n",
      "Sales Channel     0\n",
      "Order Priority    0\n",
      "Order Date        0\n",
      "Order ID          0\n",
      "Ship Date         0\n",
      "Units Sold        0\n",
      "Unit Price        0\n",
      "Unit Cost         0\n",
      "Total Revenue     0\n",
      "Total Cost        0\n",
      "Total Profit      0\n",
      "dtype: int64\n"
     ]
    }
   ],
   "source": [
    "# info and missing values\n",
    "print(df.info())\n",
    "print(df.isna().sum())"
   ]
  },
  {
   "cell_type": "code",
   "execution_count": 7,
   "id": "944f981f-8fa4-46bd-ad31-7d1c7902b28d",
   "metadata": {},
   "outputs": [],
   "source": [
    "# Convert 'Order Date' to datetime and extract Year and Month\n",
    "df['Order Date']=pd.to_datetime(df['Order Date'])\n",
    "df['Year']=df['Order Date'].dt.year\n",
    "df['Month']=df['Order Date'].dt.month"
   ]
  },
  {
   "cell_type": "code",
   "execution_count": 10,
   "id": "03f64c43-1dd7-4565-9e49-9c5eda555c22",
   "metadata": {},
   "outputs": [],
   "source": [
    "# Calculate profit margin percentage\n",
    "df['Profit Margin (%)']=(df['Total Profit']/df['Total Revenue'])*100"
   ]
  },
  {
   "cell_type": "code",
   "execution_count": 11,
   "id": "0c0a0a54-3854-431f-bc71-013f68155f7e",
   "metadata": {},
   "outputs": [],
   "source": [
    "# Save general statistics to CSV\n",
    "stats = df[['Units Sold','Total Revenue','Total Profit','Profit Margin (%)']].describe()\n",
    "stats.to_csv('C:/Users/Ismail/Desktop/Projects for GitHup/sales-business-analytics/Outputs/overall_stats.csv')"
   ]
  },
  {
   "cell_type": "code",
   "execution_count": 13,
   "id": "282b3186-330a-44b0-b3d5-9080974f751d",
   "metadata": {},
   "outputs": [],
   "source": [
    "# Group data by Year and Month to get monthly totals\n",
    "Monthly=df.groupby(['Year','Month']).agg({\n",
    "    'Units Sold':'sum',\n",
    "    'Total Revenue':'sum',\n",
    "    'Total Profit':'sum'\n",
    "}).reset_index()\n",
    "Monthly.to_csv('C:/Users/Ismail/Desktop/Projects for GitHup/sales-business-analytics/Outputs/monthly_summary.csv')"
   ]
  },
  {
   "cell_type": "code",
   "execution_count": 25,
   "id": "02405428-ff08-4a2c-9a26-837fc1b110ef",
   "metadata": {},
   "outputs": [
    {
     "data": {
      "text/plain": [
       "<Figure size 1000x600 with 0 Axes>"
      ]
     },
     "metadata": {},
     "output_type": "display_data"
    }
   ],
   "source": [
    "# plot monthly revenue trend\n",
    "Monthly['Date']=pd.to_datetime(Monthly[['Year','Month']].assign(DAY=1))\n",
    "plt.figure(figsize=(10,6))\n",
    "sns.lineplot(data=Monthly,x='Date',y='Total Revenue',marker='o')\n",
    "plt.title('Monthly Revenue Trend')\n",
    "plt.ylabel('Total Revenue')\n",
    "plt.tight_layout()\n",
    "plt.savefig('C:/Users/Ismail/Desktop/Projects for GitHup/sales-business-analytics/figures/monthly_revenue_trend.png')\n",
    "plt.clf()"
   ]
  },
  {
   "cell_type": "code",
   "execution_count": 19,
   "id": "12afca95-c75e-413d-906a-3d3208597cf6",
   "metadata": {},
   "outputs": [
    {
     "name": "stderr",
     "output_type": "stream",
     "text": [
      "C:\\Users\\Ismail\\AppData\\Local\\Temp\\ipykernel_6864\\2569166022.py:5: FutureWarning: \n",
      "\n",
      "Passing `palette` without assigning `hue` is deprecated and will be removed in v0.14.0. Assign the `y` variable to `hue` and set `legend=False` for the same effect.\n",
      "\n",
      "  sns.barplot(x=region_margin.values, y=region_margin.index, palette='viridis')\n"
     ]
    },
    {
     "data": {
      "text/plain": [
       "<Figure size 800x600 with 0 Axes>"
      ]
     },
     "metadata": {},
     "output_type": "display_data"
    }
   ],
   "source": [
    "# Show average profit margin by region\n",
    "region_margin = df.groupby('Region')['Profit Margin (%)'].mean().sort_values()\n",
    "region_margin.to_csv('C:/Users/Ismail/Desktop/Projects for GitHup/sales-business-analytics/Outputs/region_profit_margin.csv')\n",
    "plt.figure(figsize=(8,6))\n",
    "sns.barplot(x=region_margin.values, y=region_margin.index, palette='viridis')\n",
    "plt.title('Average Profit Margin by Region')\n",
    "plt.xlabel('Profit Margin (%)')\n",
    "plt.tight_layout()\n",
    "plt.savefig('C:/Users/Ismail/Desktop/Projects for GitHup/sales-business-analytics/figures/profit_margin_by_region.png')\n",
    "plt.clf()"
   ]
  },
  {
   "cell_type": "code",
   "execution_count": 20,
   "id": "71e34888-a7d6-4cc4-ba75-2fb18f43139a",
   "metadata": {},
   "outputs": [
    {
     "data": {
      "text/plain": [
       "<Figure size 1200x800 with 0 Axes>"
      ]
     },
     "metadata": {},
     "output_type": "display_data"
    }
   ],
   "source": [
    "# Heatmap of units sold by region over time\n",
    "pivot_units = df.groupby(['Year', 'Month', 'Region'])['Units Sold'].sum().unstack('Region')\n",
    "pivot_units.index = pd.to_datetime(pivot_units.index.to_frame().assign(DAY=1))\n",
    "pivot_units.to_csv('C:/Users/Ismail/Desktop/Projects for GitHup/sales-business-analytics/Outputs/units_sold_trend.csv')\n",
    "plt.figure(figsize=(12,8))\n",
    "sns.heatmap(pivot_units, cmap='YlGnBu')\n",
    "plt.title('Units Sold Heatmap (Region vs Time)')\n",
    "plt.tight_layout()\n",
    "plt.savefig('C:/Users/Ismail/Desktop/Projects for GitHup/sales-business-analytics/figures/units_sold_heatmap.png')\n",
    "plt.clf()"
   ]
  },
  {
   "cell_type": "code",
   "execution_count": 21,
   "id": "6d4e7177-7b9a-4058-8296-fcbe15ca1b8f",
   "metadata": {},
   "outputs": [
    {
     "data": {
      "text/plain": [
       "<Figure size 800x600 with 0 Axes>"
      ]
     },
     "metadata": {},
     "output_type": "display_data"
    }
   ],
   "source": [
    "# 10) Scatter plot: Revenue vs Profit Margin colored by region\n",
    "plt.figure(figsize=(8,6))\n",
    "sns.scatterplot(x='Total Revenue', y='Profit Margin (%)', data=df, hue='Region')\n",
    "plt.title('Revenue vs Profit Margin by Region')\n",
    "plt.tight_layout()\n",
    "plt.savefig('C:/Users/Ismail/Desktop/Projects for GitHup/sales-business-analytics/figures/revenue_margin_scatter.png')\n",
    "plt.clf()"
   ]
  },
  {
   "cell_type": "code",
   "execution_count": 23,
   "id": "eb215b75-761e-46cd-9ac4-44958c4e44d1",
   "metadata": {},
   "outputs": [
    {
     "data": {
      "text/plain": [
       "<Figure size 1000x600 with 0 Axes>"
      ]
     },
     "metadata": {},
     "output_type": "display_data"
    }
   ],
   "source": [
    "# Plot cumulative revenue over time\n",
    "monthly_sorted = Monthly.sort_values('Date')\n",
    "monthly_sorted['Cumulative Revenue'] = monthly_sorted['Total Revenue'].cumsum()\n",
    "monthly_sorted.to_csv('C:/Users/Ismail/Desktop/Projects for GitHup/sales-business-analytics/Outputs/cumulative_revenue.csv')\n",
    "plt.figure(figsize=(10,6))\n",
    "sns.lineplot(data=monthly_sorted, x='Date', y='Cumulative Revenue', marker='o')\n",
    "plt.title('Cumulative Revenue Over Time')\n",
    "plt.ylabel('Cumulative Revenue')\n",
    "plt.tight_layout()\n",
    "plt.savefig('C:/Users/Ismail/Desktop/Projects for GitHup/sales-business-analytics/figures/cumulative_revenue_curve.png')\n",
    "plt.clf()"
   ]
  },
  {
   "cell_type": "code",
   "execution_count": 24,
   "id": "4e09b7ff-0be5-470b-979e-b84618712f7b",
   "metadata": {},
   "outputs": [
    {
     "data": {
      "text/plain": [
       "<Figure size 800x600 with 0 Axes>"
      ]
     },
     "metadata": {},
     "output_type": "display_data"
    }
   ],
   "source": [
    "# 12) Boxplot of revenue by sales channel\n",
    "plt.figure(figsize=(8,6))\n",
    "sns.boxplot(x='Sales Channel', y='Total Revenue', data=df)\n",
    "plt.title('Revenue Distribution by Sales Channel')\n",
    "plt.tight_layout()\n",
    "plt.savefig('C:/Users/Ismail/Desktop/Projects for GitHup/sales-business-analytics/figures/revenue_by_channel_box.png')\n",
    "plt.clf()"
   ]
  },
  {
   "cell_type": "code",
   "execution_count": null,
   "id": "34ced094-1ad6-4b1a-a766-25b500be200a",
   "metadata": {},
   "outputs": [],
   "source": []
  }
 ],
 "metadata": {
  "kernelspec": {
   "display_name": "Python 3 (ipykernel)",
   "language": "python",
   "name": "python3"
  },
  "language_info": {
   "codemirror_mode": {
    "name": "ipython",
    "version": 3
   },
   "file_extension": ".py",
   "mimetype": "text/x-python",
   "name": "python",
   "nbconvert_exporter": "python",
   "pygments_lexer": "ipython3",
   "version": "3.12.7"
  }
 },
 "nbformat": 4,
 "nbformat_minor": 5
}
